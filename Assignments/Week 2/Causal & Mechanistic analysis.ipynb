{
 "cells": [
  {
   "cell_type": "markdown",
   "metadata": {},
   "source": [
    "# Causal analysis\n",
    "The main purpose of causal analysis, unlike the previous types of analysis, which was merely to find how a variable behaves (**its effect**), is to look deeper and try to find the causes hidden behind the effects, generally causal analysis is much harder since it will likely need someone with expertise in the subject matter."
   ]
  },
  {
   "cell_type": "markdown",
   "metadata": {},
   "source": [
    "# Mechanistic analysis\n",
    "Is very far from real results because in such analysis **exact** changes in variables are measured against **exact** changes in other related variables, such analysis is found mainly in natural sciences for modelling."
   ]
  }
 ],
 "metadata": {
  "kernelspec": {
   "display_name": "Python 3",
   "language": "python",
   "name": "python3"
  },
  "language_info": {
   "codemirror_mode": {
    "name": "ipython",
    "version": 3
   },
   "file_extension": ".py",
   "mimetype": "text/x-python",
   "name": "python",
   "nbconvert_exporter": "python",
   "pygments_lexer": "ipython3",
   "version": "3.7.4"
  }
 },
 "nbformat": 4,
 "nbformat_minor": 4
}
